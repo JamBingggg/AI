{
 "cells": [
  {
   "cell_type": "code",
   "execution_count": 44,
   "metadata": {
    "collapsed": true
   },
   "outputs": [
    {
     "name": "stdout",
     "output_type": "stream",
     "text": [
      "xxx\n"
     ]
    }
   ],
   "source": [
    "print(\"xxx\")"
   ]
  },
  {
   "cell_type": "code",
   "execution_count": 45,
   "outputs": [],
   "source": [
    "import os\n",
    "import tarfile\n",
    "from six.moves import urllib"
   ],
   "metadata": {
    "collapsed": false,
    "pycharm": {
     "name": "#%%\n"
    }
   }
  },
  {
   "cell_type": "code",
   "execution_count": 46,
   "outputs": [],
   "source": [
    "DownLoadRoot = \"https://raw.githubusercontent.com/ageron/handson-ml/master/\"\n",
    "HousingPath = \"datasets/housing\"\n",
    "HousingUrl = DownLoadRoot+HousingPath+\"/housing.tgz\"\n",
    "#创建文件夹下载数据解压\n",
    "def fetch_housing_data(housing_url,housing_path):\n",
    "    if not os.path.isdir(housing_path):\n",
    "        os.makedirs(housing_path)\n",
    "    tgz_path = os.path.join(housing_path,\"housing.tgz\")\n",
    "    urllib.request.urlretrieve(housing_url,tgz_path)\n",
    "    housing_tgz = tarfile.open(tgz_path)\n",
    "    housing_tgz.extractall(path=housing_path)\n",
    "    housing_tgz.close()"
   ],
   "metadata": {
    "collapsed": false,
    "pycharm": {
     "name": "#%%\n"
    }
   }
  },
  {
   "cell_type": "code",
   "execution_count": 47,
   "outputs": [
    {
     "name": "stdout",
     "output_type": "stream",
     "text": [
      "<class 'pandas.core.frame.DataFrame'>\n",
      "RangeIndex: 20640 entries, 0 to 20639\n",
      "Data columns (total 10 columns):\n",
      " #   Column              Non-Null Count  Dtype  \n",
      "---  ------              --------------  -----  \n",
      " 0   longitude           20640 non-null  float64\n",
      " 1   latitude            20640 non-null  float64\n",
      " 2   housing_median_age  20640 non-null  float64\n",
      " 3   total_rooms         20640 non-null  float64\n",
      " 4   total_bedrooms      20433 non-null  float64\n",
      " 5   population          20640 non-null  float64\n",
      " 6   households          20640 non-null  float64\n",
      " 7   median_income       20640 non-null  float64\n",
      " 8   median_house_value  20640 non-null  float64\n",
      " 9   ocean_proximity     20640 non-null  object \n",
      "dtypes: float64(9), object(1)\n",
      "memory usage: 1.6+ MB\n"
     ]
    }
   ],
   "source": [
    "import pandas as pd\n",
    "housing = pd.read_csv(\"datasets/housing/housing.csv\")\n",
    "housing.info()"
   ],
   "metadata": {
    "collapsed": false,
    "pycharm": {
     "name": "#%%\n"
    }
   }
  },
  {
   "cell_type": "code",
   "execution_count": 48,
   "outputs": [
    {
     "data": {
      "text/plain": "<1H OCEAN     9136\nINLAND        6551\nNEAR OCEAN    2658\nNEAR BAY      2290\nISLAND           5\nName: ocean_proximity, dtype: int64"
     },
     "execution_count": 48,
     "metadata": {},
     "output_type": "execute_result"
    }
   ],
   "source": [
    "housing.head()\n",
    "#查看具体分类\n",
    "housing['ocean_proximity'].value_counts()"
   ],
   "metadata": {
    "collapsed": false,
    "pycharm": {
     "name": "#%%\n"
    }
   }
  },
  {
   "cell_type": "code",
   "execution_count": 49,
   "outputs": [
    {
     "data": {
      "text/plain": "          longitude      latitude  housing_median_age   total_rooms  \\\ncount  20640.000000  20640.000000        20640.000000  20640.000000   \nmean    -119.569704     35.631861           28.639486   2635.763081   \nstd        2.003532      2.135952           12.585558   2181.615252   \nmin     -124.350000     32.540000            1.000000      2.000000   \n25%     -121.800000     33.930000           18.000000   1447.750000   \n50%     -118.490000     34.260000           29.000000   2127.000000   \n75%     -118.010000     37.710000           37.000000   3148.000000   \nmax     -114.310000     41.950000           52.000000  39320.000000   \n\n       total_bedrooms    population    households  median_income  \\\ncount    20433.000000  20640.000000  20640.000000   20640.000000   \nmean       537.870553   1425.476744    499.539680       3.870671   \nstd        421.385070   1132.462122    382.329753       1.899822   \nmin          1.000000      3.000000      1.000000       0.499900   \n25%        296.000000    787.000000    280.000000       2.563400   \n50%        435.000000   1166.000000    409.000000       3.534800   \n75%        647.000000   1725.000000    605.000000       4.743250   \nmax       6445.000000  35682.000000   6082.000000      15.000100   \n\n       median_house_value  \ncount        20640.000000  \nmean        206855.816909  \nstd         115395.615874  \nmin          14999.000000  \n25%         119600.000000  \n50%         179700.000000  \n75%         264725.000000  \nmax         500001.000000  ",
      "text/html": "<div>\n<style scoped>\n    .dataframe tbody tr th:only-of-type {\n        vertical-align: middle;\n    }\n\n    .dataframe tbody tr th {\n        vertical-align: top;\n    }\n\n    .dataframe thead th {\n        text-align: right;\n    }\n</style>\n<table border=\"1\" class=\"dataframe\">\n  <thead>\n    <tr style=\"text-align: right;\">\n      <th></th>\n      <th>longitude</th>\n      <th>latitude</th>\n      <th>housing_median_age</th>\n      <th>total_rooms</th>\n      <th>total_bedrooms</th>\n      <th>population</th>\n      <th>households</th>\n      <th>median_income</th>\n      <th>median_house_value</th>\n    </tr>\n  </thead>\n  <tbody>\n    <tr>\n      <th>count</th>\n      <td>20640.000000</td>\n      <td>20640.000000</td>\n      <td>20640.000000</td>\n      <td>20640.000000</td>\n      <td>20433.000000</td>\n      <td>20640.000000</td>\n      <td>20640.000000</td>\n      <td>20640.000000</td>\n      <td>20640.000000</td>\n    </tr>\n    <tr>\n      <th>mean</th>\n      <td>-119.569704</td>\n      <td>35.631861</td>\n      <td>28.639486</td>\n      <td>2635.763081</td>\n      <td>537.870553</td>\n      <td>1425.476744</td>\n      <td>499.539680</td>\n      <td>3.870671</td>\n      <td>206855.816909</td>\n    </tr>\n    <tr>\n      <th>std</th>\n      <td>2.003532</td>\n      <td>2.135952</td>\n      <td>12.585558</td>\n      <td>2181.615252</td>\n      <td>421.385070</td>\n      <td>1132.462122</td>\n      <td>382.329753</td>\n      <td>1.899822</td>\n      <td>115395.615874</td>\n    </tr>\n    <tr>\n      <th>min</th>\n      <td>-124.350000</td>\n      <td>32.540000</td>\n      <td>1.000000</td>\n      <td>2.000000</td>\n      <td>1.000000</td>\n      <td>3.000000</td>\n      <td>1.000000</td>\n      <td>0.499900</td>\n      <td>14999.000000</td>\n    </tr>\n    <tr>\n      <th>25%</th>\n      <td>-121.800000</td>\n      <td>33.930000</td>\n      <td>18.000000</td>\n      <td>1447.750000</td>\n      <td>296.000000</td>\n      <td>787.000000</td>\n      <td>280.000000</td>\n      <td>2.563400</td>\n      <td>119600.000000</td>\n    </tr>\n    <tr>\n      <th>50%</th>\n      <td>-118.490000</td>\n      <td>34.260000</td>\n      <td>29.000000</td>\n      <td>2127.000000</td>\n      <td>435.000000</td>\n      <td>1166.000000</td>\n      <td>409.000000</td>\n      <td>3.534800</td>\n      <td>179700.000000</td>\n    </tr>\n    <tr>\n      <th>75%</th>\n      <td>-118.010000</td>\n      <td>37.710000</td>\n      <td>37.000000</td>\n      <td>3148.000000</td>\n      <td>647.000000</td>\n      <td>1725.000000</td>\n      <td>605.000000</td>\n      <td>4.743250</td>\n      <td>264725.000000</td>\n    </tr>\n    <tr>\n      <th>max</th>\n      <td>-114.310000</td>\n      <td>41.950000</td>\n      <td>52.000000</td>\n      <td>39320.000000</td>\n      <td>6445.000000</td>\n      <td>35682.000000</td>\n      <td>6082.000000</td>\n      <td>15.000100</td>\n      <td>500001.000000</td>\n    </tr>\n  </tbody>\n</table>\n</div>"
     },
     "execution_count": 49,
     "metadata": {},
     "output_type": "execute_result"
    }
   ],
   "source": [
    "#摘要（空值被忽略），std--标准差\n",
    "housing.describe()"
   ],
   "metadata": {
    "collapsed": false,
    "pycharm": {
     "name": "#%%\n"
    }
   }
  },
  {
   "cell_type": "code",
   "execution_count": 50,
   "outputs": [],
   "source": [
    "#单独显示窗口\n",
    "%matplotlib osx\n",
    "\n",
    "import matplotlib.pyplot as plt\n",
    "#每个属性直方图\n",
    "#bins柱数，figsize图尺寸大小\n",
    "housing.hist(bins=50,figsize=(20,15),)\n",
    "plt.show()"
   ],
   "metadata": {
    "collapsed": false,
    "pycharm": {
     "name": "#%%\n"
    }
   }
  },
  {
   "cell_type": "code",
   "execution_count": 51,
   "outputs": [],
   "source": [
    "'''\n",
    "定义测试集\n",
    "'''\n",
    "import numpy as np\n",
    "#选取测试集和训练集 （通常以2：8分割)\n",
    "#每次运行结果不同\n",
    "def split_test_train(data, test_radio):\n",
    "    #随机排列一个序列，或者数组\n",
    "    shuffled_indices = np.random.permutation(len(data))\n",
    "    #获取测试集数目\n",
    "    test_size = int(len(data)*test_radio)\n",
    "    #将随机后的序列分别定为测试集和训练集\n",
    "    test_indices = shuffled_indices[:test_size]\n",
    "    train_indices = shuffled_indices[test_size:]\n",
    "    #iloc通过行号来取行数据  loc通过行的具体值来取行数据\n",
    "    return data.iloc[test_indices],data.iloc[train_indices]"
   ],
   "metadata": {
    "collapsed": false,
    "pycharm": {
     "name": "#%%\n"
    }
   }
  },
  {
   "cell_type": "code",
   "execution_count": 52,
   "outputs": [
    {
     "name": "stdout",
     "output_type": "stream",
     "text": [
      "sum 20640 : 4128 test +  16512 train\n"
     ]
    }
   ],
   "source": [
    "#固定测试集\n",
    "#1.设计固定的随机数种子 np.random.seed(42)——————在下一次获取更新的数据时都会中断,可以利用固定标识符决定是否进入测试集#%%\n",
    "#2.sklearn——纯随机，无分层\n",
    "from sklearn.model_selection import train_test_split\n",
    "train_set,test_set =train_test_split(housing,test_size=.2,random_state=42)\n",
    "#test_set,train_set = split_test_train(housing,0.2)\n",
    "print('sum',len(housing),':',len(test_set),'test + ',len(train_set),'train')"
   ],
   "metadata": {
    "collapsed": false,
    "pycharm": {
     "name": "#%%\n"
    }
   }
  },
  {
   "cell_type": "code",
   "execution_count": 53,
   "outputs": [
    {
     "name": "stdout",
     "output_type": "stream",
     "text": [
      "3.0    7236\n",
      "2.0    6581\n",
      "4.0    3639\n",
      "5.0    2362\n",
      "1.0     822\n",
      "Name: cat_income, dtype: int64\n"
     ]
    }
   ],
   "source": [
    "#3.创建分类（以收入分层），根据分类类型比例分层抽样\n",
    "#将收入中位数除以1.5(限制收入类别的数 量)，然后使用ceil进行取整(得到离散类别)\n",
    "housing['cat_income'] = np.ceil(housing['median_income']/1.5)\n",
    "#最后将所有大于5的类 别合并为类别5\n",
    "housing['cat_income'].where(housing['cat_income'] < 5 , 5.0, inplace=True)\n",
    "\n",
    "from sklearn.model_selection import StratifiedShuffleSplit\n",
    "#n_splits是将训练数据分成train/test对的组数\n",
    "split = StratifiedShuffleSplit(n_splits=1,test_size=.2,random_state=42)\n",
    "#根据cat_income对数据集分割\n",
    "for train_index, test_index in split.split(housing,housing['cat_income']):\n",
    "    strat_train_set = housing.loc[train_index]\n",
    "    strat_test_set = housing.loc[test_index]\n",
    "#根据收入类别的分布\n",
    "print(housing['cat_income'].value_counts())\n",
    "housing['cat_income'].value_counts() / len(housing)\n",
    "\n",
    "#恢复原始数据\n",
    "for set in (strat_train_set,strat_test_set):\n",
    "    set.drop([\"cat_income\"], axis=1, inplace=True)"
   ],
   "metadata": {
    "collapsed": false,
    "pycharm": {
     "name": "#%%\n"
    }
   }
  },
  {
   "cell_type": "code",
   "execution_count": 54,
   "outputs": [
    {
     "data": {
      "text/plain": "<AxesSubplot:xlabel='longitude', ylabel='latitude'>"
     },
     "execution_count": 54,
     "metadata": {},
     "output_type": "execute_result"
    }
   ],
   "source": [
    "#创建训练集副本\n",
    "housing = strat_train_set.copy()\n",
    "#创建散点图\n",
    "#以经纬度为轴，查看密度分布\n",
    "housing.plot(kind=\"scatter\", x=\"longitude\", y=\"latitude\", alpha=0.1)"
   ],
   "metadata": {
    "collapsed": false,
    "pycharm": {
     "name": "#%%\n"
    }
   }
  },
  {
   "cell_type": "code",
   "execution_count": 55,
   "outputs": [
    {
     "data": {
      "text/plain": "<AxesSubplot:xlabel='longitude', ylabel='latitude'>"
     },
     "execution_count": 55,
     "metadata": {},
     "output_type": "execute_result"
    }
   ],
   "source": [
    "'''\n",
    "s:圆半径大小=该地人口分布\n",
    "c：颜色深度=价格高低\n",
    "cmap：选取预设颜色表\n",
    "'''\n",
    "housing.plot(kind=\"scatter\", x=\"longitude\", y=\"latitude\", alpha=.4,\n",
    "             s=housing['population']/100, label='population',\n",
    "             c='median_house_value', cmap=plt.get_cmap('jet'), colorbar=True)\n"
   ],
   "metadata": {
    "collapsed": false,
    "pycharm": {
     "name": "#%%\n"
    }
   }
  },
  {
   "cell_type": "code",
   "execution_count": 56,
   "outputs": [
    {
     "data": {
      "text/plain": "median_house_value    1.000000\nmedian_income         0.687160\ntotal_rooms           0.135097\nhousing_median_age    0.114110\nhouseholds            0.064506\ntotal_bedrooms        0.047689\npopulation           -0.026920\nlongitude            -0.047432\nlatitude             -0.142724\nName: median_house_value, dtype: float64"
     },
     "execution_count": 56,
     "metadata": {},
     "output_type": "execute_result"
    }
   ],
   "source": [
    "#检测相关性\n",
    "\n",
    "#1.皮尔逊相关系数\n",
    "'''\n",
    "在数据标准化（ [公式] ）后，Pearson相关性系数、Cosine相似度、欧式距离的平方可认为是等价的\n",
    "注意：仅测量线性相关性\n",
    "通常情况下通过以下取值范围判断变量的相关强度：\n",
    "相关系数     0.8-1.0     极强相关\n",
    "                 0.6-0.8     强相关\n",
    "                 0.4-0.6     中等程度相关\n",
    "                 0.2-0.4     弱相关\n",
    "                 0.0-0.2     极弱相关或无相关\n",
    "                 小于0        负相关\n",
    "'''\n",
    "corr_matrix = housing.corr()\n",
    "corr_matrix[\"median_house_value\"].sort_values(ascending=False)"
   ],
   "metadata": {
    "collapsed": false,
    "pycharm": {
     "name": "#%%\n"
    }
   }
  },
  {
   "cell_type": "code",
   "execution_count": 57,
   "outputs": [
    {
     "data": {
      "text/plain": "array([[<AxesSubplot:xlabel='median_house_value', ylabel='median_house_value'>,\n        <AxesSubplot:xlabel='median_income', ylabel='median_house_value'>,\n        <AxesSubplot:xlabel='total_rooms', ylabel='median_house_value'>,\n        <AxesSubplot:xlabel='housing_median_age', ylabel='median_house_value'>],\n       [<AxesSubplot:xlabel='median_house_value', ylabel='median_income'>,\n        <AxesSubplot:xlabel='median_income', ylabel='median_income'>,\n        <AxesSubplot:xlabel='total_rooms', ylabel='median_income'>,\n        <AxesSubplot:xlabel='housing_median_age', ylabel='median_income'>],\n       [<AxesSubplot:xlabel='median_house_value', ylabel='total_rooms'>,\n        <AxesSubplot:xlabel='median_income', ylabel='total_rooms'>,\n        <AxesSubplot:xlabel='total_rooms', ylabel='total_rooms'>,\n        <AxesSubplot:xlabel='housing_median_age', ylabel='total_rooms'>],\n       [<AxesSubplot:xlabel='median_house_value', ylabel='housing_median_age'>,\n        <AxesSubplot:xlabel='median_income', ylabel='housing_median_age'>,\n        <AxesSubplot:xlabel='total_rooms', ylabel='housing_median_age'>,\n        <AxesSubplot:xlabel='housing_median_age', ylabel='housing_median_age'>]],\n      dtype=object)"
     },
     "execution_count": 57,
     "metadata": {},
     "output_type": "execute_result"
    }
   ],
   "source": [
    "#2.Pandas的 scatter_matrix函数\n",
    "from pandas.plotting import scatter_matrix\n",
    "attribute = [\"median_house_value\", \"median_income\", \"total_rooms\", \"housing_median_age\",]\n",
    "#figsize:表大小\n",
    "scatter_matrix(housing[attribute], figsize=(12,8))"
   ],
   "metadata": {
    "collapsed": false,
    "pycharm": {
     "name": "#%%\n"
    }
   }
  },
  {
   "cell_type": "code",
   "execution_count": 58,
   "outputs": [
    {
     "data": {
      "text/plain": "<AxesSubplot:xlabel='median_income', ylabel='median_house_value'>"
     },
     "execution_count": 58,
     "metadata": {},
     "output_type": "execute_result"
    }
   ],
   "source": [
    "#根据相关性找到房价与收入相关性最强\n",
    "housing.plot(kind=\"scatter\", x=\"median_income\", y=\"median_house_value\", alpha=.1)"
   ],
   "metadata": {
    "collapsed": false,
    "pycharm": {
     "name": "#%%\n"
    }
   }
  },
  {
   "cell_type": "code",
   "execution_count": 59,
   "outputs": [
    {
     "data": {
      "text/plain": "median_house_value          1.000000\nmedian_income               0.687160\nroom_per_household          0.146285\ntotal_rooms                 0.135097\nhousing_median_age          0.114110\nhouseholds                  0.064506\ntotal_bedrooms              0.047689\npopulation_per_household   -0.021985\npopulation                 -0.026920\nlongitude                  -0.047432\nlatitude                   -0.142724\nbedrooms_per_rooms         -0.259984\nName: median_house_value, dtype: float64"
     },
     "execution_count": 59,
     "metadata": {},
     "output_type": "execute_result"
    }
   ],
   "source": [
    "#通过房间数量与其他数据组合获得其他属性寻找相关性\n",
    "housing['room_per_household'] = housing['total_rooms']/housing['households']\n",
    "housing['bedrooms_per_rooms'] = housing['total_bedrooms']/housing['total_rooms']\n",
    "housing['population_per_household'] = housing['population']/housing['households']\n",
    "\n",
    "corr_matrix = housing.corr()\n",
    "corr_matrix[\"median_house_value\"].sort_values(ascending=False)"
   ],
   "metadata": {
    "collapsed": false,
    "pycharm": {
     "name": "#%%\n"
    }
   }
  },
  {
   "cell_type": "code",
   "execution_count": 60,
   "outputs": [
    {
     "data": {
      "text/plain": "       longitude  latitude  housing_median_age  total_rooms  total_bedrooms  \\\n17606    -121.89     37.29                38.0       1568.0           351.0   \n18632    -121.93     37.05                14.0        679.0           108.0   \n14650    -117.20     32.77                31.0       1952.0           471.0   \n3230     -119.61     36.31                25.0       1847.0           371.0   \n3555     -118.59     34.23                17.0       6592.0          1525.0   \n...          ...       ...                 ...          ...             ...   \n6563     -118.13     34.20                46.0       1271.0           236.0   \n12053    -117.56     33.88                40.0       1196.0           294.0   \n13908    -116.40     34.09                 9.0       4855.0           872.0   \n11159    -118.01     33.82                31.0       1960.0           380.0   \n15775    -122.45     37.77                52.0       3095.0           682.0   \n\n       population  households  median_income ocean_proximity  \n17606       710.0       339.0         2.7042       <1H OCEAN  \n18632       306.0       113.0         6.4214       <1H OCEAN  \n14650       936.0       462.0         2.8621      NEAR OCEAN  \n3230       1460.0       353.0         1.8839          INLAND  \n3555       4459.0      1463.0         3.0347       <1H OCEAN  \n...           ...         ...            ...             ...  \n6563        573.0       210.0         4.9312          INLAND  \n12053      1052.0       258.0         2.0682          INLAND  \n13908      2098.0       765.0         3.2723          INLAND  \n11159      1356.0       356.0         4.0625       <1H OCEAN  \n15775      1269.0       639.0         3.5750        NEAR BAY  \n\n[16512 rows x 9 columns]",
      "text/html": "<div>\n<style scoped>\n    .dataframe tbody tr th:only-of-type {\n        vertical-align: middle;\n    }\n\n    .dataframe tbody tr th {\n        vertical-align: top;\n    }\n\n    .dataframe thead th {\n        text-align: right;\n    }\n</style>\n<table border=\"1\" class=\"dataframe\">\n  <thead>\n    <tr style=\"text-align: right;\">\n      <th></th>\n      <th>longitude</th>\n      <th>latitude</th>\n      <th>housing_median_age</th>\n      <th>total_rooms</th>\n      <th>total_bedrooms</th>\n      <th>population</th>\n      <th>households</th>\n      <th>median_income</th>\n      <th>ocean_proximity</th>\n    </tr>\n  </thead>\n  <tbody>\n    <tr>\n      <th>17606</th>\n      <td>-121.89</td>\n      <td>37.29</td>\n      <td>38.0</td>\n      <td>1568.0</td>\n      <td>351.0</td>\n      <td>710.0</td>\n      <td>339.0</td>\n      <td>2.7042</td>\n      <td>&lt;1H OCEAN</td>\n    </tr>\n    <tr>\n      <th>18632</th>\n      <td>-121.93</td>\n      <td>37.05</td>\n      <td>14.0</td>\n      <td>679.0</td>\n      <td>108.0</td>\n      <td>306.0</td>\n      <td>113.0</td>\n      <td>6.4214</td>\n      <td>&lt;1H OCEAN</td>\n    </tr>\n    <tr>\n      <th>14650</th>\n      <td>-117.20</td>\n      <td>32.77</td>\n      <td>31.0</td>\n      <td>1952.0</td>\n      <td>471.0</td>\n      <td>936.0</td>\n      <td>462.0</td>\n      <td>2.8621</td>\n      <td>NEAR OCEAN</td>\n    </tr>\n    <tr>\n      <th>3230</th>\n      <td>-119.61</td>\n      <td>36.31</td>\n      <td>25.0</td>\n      <td>1847.0</td>\n      <td>371.0</td>\n      <td>1460.0</td>\n      <td>353.0</td>\n      <td>1.8839</td>\n      <td>INLAND</td>\n    </tr>\n    <tr>\n      <th>3555</th>\n      <td>-118.59</td>\n      <td>34.23</td>\n      <td>17.0</td>\n      <td>6592.0</td>\n      <td>1525.0</td>\n      <td>4459.0</td>\n      <td>1463.0</td>\n      <td>3.0347</td>\n      <td>&lt;1H OCEAN</td>\n    </tr>\n    <tr>\n      <th>...</th>\n      <td>...</td>\n      <td>...</td>\n      <td>...</td>\n      <td>...</td>\n      <td>...</td>\n      <td>...</td>\n      <td>...</td>\n      <td>...</td>\n      <td>...</td>\n    </tr>\n    <tr>\n      <th>6563</th>\n      <td>-118.13</td>\n      <td>34.20</td>\n      <td>46.0</td>\n      <td>1271.0</td>\n      <td>236.0</td>\n      <td>573.0</td>\n      <td>210.0</td>\n      <td>4.9312</td>\n      <td>INLAND</td>\n    </tr>\n    <tr>\n      <th>12053</th>\n      <td>-117.56</td>\n      <td>33.88</td>\n      <td>40.0</td>\n      <td>1196.0</td>\n      <td>294.0</td>\n      <td>1052.0</td>\n      <td>258.0</td>\n      <td>2.0682</td>\n      <td>INLAND</td>\n    </tr>\n    <tr>\n      <th>13908</th>\n      <td>-116.40</td>\n      <td>34.09</td>\n      <td>9.0</td>\n      <td>4855.0</td>\n      <td>872.0</td>\n      <td>2098.0</td>\n      <td>765.0</td>\n      <td>3.2723</td>\n      <td>INLAND</td>\n    </tr>\n    <tr>\n      <th>11159</th>\n      <td>-118.01</td>\n      <td>33.82</td>\n      <td>31.0</td>\n      <td>1960.0</td>\n      <td>380.0</td>\n      <td>1356.0</td>\n      <td>356.0</td>\n      <td>4.0625</td>\n      <td>&lt;1H OCEAN</td>\n    </tr>\n    <tr>\n      <th>15775</th>\n      <td>-122.45</td>\n      <td>37.77</td>\n      <td>52.0</td>\n      <td>3095.0</td>\n      <td>682.0</td>\n      <td>1269.0</td>\n      <td>639.0</td>\n      <td>3.5750</td>\n      <td>NEAR BAY</td>\n    </tr>\n  </tbody>\n</table>\n<p>16512 rows × 9 columns</p>\n</div>"
     },
     "execution_count": 60,
     "metadata": {},
     "output_type": "execute_result"
    }
   ],
   "source": [
    "#复制数据集,提取出房价\n",
    "housing = strat_train_set.drop(\"median_house_value\", axis=1)\n",
    "#标签与数据分离\n",
    "housing_labels = strat_train_set[\"median_house_value\"].copy()\n",
    "housing"
   ],
   "metadata": {
    "collapsed": false,
    "pycharm": {
     "name": "#%%\n"
    }
   }
  },
  {
   "cell_type": "code",
   "execution_count": 61,
   "outputs": [
    {
     "data": {
      "text/plain": "       longitude  latitude  housing_median_age  total_rooms  total_bedrooms  \\\n0        -121.89     37.29                38.0       1568.0           351.0   \n1        -121.93     37.05                14.0        679.0           108.0   \n2        -117.20     32.77                31.0       1952.0           471.0   \n3        -119.61     36.31                25.0       1847.0           371.0   \n4        -118.59     34.23                17.0       6592.0          1525.0   \n...          ...       ...                 ...          ...             ...   \n16507    -118.13     34.20                46.0       1271.0           236.0   \n16508    -117.56     33.88                40.0       1196.0           294.0   \n16509    -116.40     34.09                 9.0       4855.0           872.0   \n16510    -118.01     33.82                31.0       1960.0           380.0   \n16511    -122.45     37.77                52.0       3095.0           682.0   \n\n       population  households  median_income  \n0           710.0       339.0         2.7042  \n1           306.0       113.0         6.4214  \n2           936.0       462.0         2.8621  \n3          1460.0       353.0         1.8839  \n4          4459.0      1463.0         3.0347  \n...           ...         ...            ...  \n16507       573.0       210.0         4.9312  \n16508      1052.0       258.0         2.0682  \n16509      2098.0       765.0         3.2723  \n16510      1356.0       356.0         4.0625  \n16511      1269.0       639.0         3.5750  \n\n[16512 rows x 8 columns]",
      "text/html": "<div>\n<style scoped>\n    .dataframe tbody tr th:only-of-type {\n        vertical-align: middle;\n    }\n\n    .dataframe tbody tr th {\n        vertical-align: top;\n    }\n\n    .dataframe thead th {\n        text-align: right;\n    }\n</style>\n<table border=\"1\" class=\"dataframe\">\n  <thead>\n    <tr style=\"text-align: right;\">\n      <th></th>\n      <th>longitude</th>\n      <th>latitude</th>\n      <th>housing_median_age</th>\n      <th>total_rooms</th>\n      <th>total_bedrooms</th>\n      <th>population</th>\n      <th>households</th>\n      <th>median_income</th>\n    </tr>\n  </thead>\n  <tbody>\n    <tr>\n      <th>0</th>\n      <td>-121.89</td>\n      <td>37.29</td>\n      <td>38.0</td>\n      <td>1568.0</td>\n      <td>351.0</td>\n      <td>710.0</td>\n      <td>339.0</td>\n      <td>2.7042</td>\n    </tr>\n    <tr>\n      <th>1</th>\n      <td>-121.93</td>\n      <td>37.05</td>\n      <td>14.0</td>\n      <td>679.0</td>\n      <td>108.0</td>\n      <td>306.0</td>\n      <td>113.0</td>\n      <td>6.4214</td>\n    </tr>\n    <tr>\n      <th>2</th>\n      <td>-117.20</td>\n      <td>32.77</td>\n      <td>31.0</td>\n      <td>1952.0</td>\n      <td>471.0</td>\n      <td>936.0</td>\n      <td>462.0</td>\n      <td>2.8621</td>\n    </tr>\n    <tr>\n      <th>3</th>\n      <td>-119.61</td>\n      <td>36.31</td>\n      <td>25.0</td>\n      <td>1847.0</td>\n      <td>371.0</td>\n      <td>1460.0</td>\n      <td>353.0</td>\n      <td>1.8839</td>\n    </tr>\n    <tr>\n      <th>4</th>\n      <td>-118.59</td>\n      <td>34.23</td>\n      <td>17.0</td>\n      <td>6592.0</td>\n      <td>1525.0</td>\n      <td>4459.0</td>\n      <td>1463.0</td>\n      <td>3.0347</td>\n    </tr>\n    <tr>\n      <th>...</th>\n      <td>...</td>\n      <td>...</td>\n      <td>...</td>\n      <td>...</td>\n      <td>...</td>\n      <td>...</td>\n      <td>...</td>\n      <td>...</td>\n    </tr>\n    <tr>\n      <th>16507</th>\n      <td>-118.13</td>\n      <td>34.20</td>\n      <td>46.0</td>\n      <td>1271.0</td>\n      <td>236.0</td>\n      <td>573.0</td>\n      <td>210.0</td>\n      <td>4.9312</td>\n    </tr>\n    <tr>\n      <th>16508</th>\n      <td>-117.56</td>\n      <td>33.88</td>\n      <td>40.0</td>\n      <td>1196.0</td>\n      <td>294.0</td>\n      <td>1052.0</td>\n      <td>258.0</td>\n      <td>2.0682</td>\n    </tr>\n    <tr>\n      <th>16509</th>\n      <td>-116.40</td>\n      <td>34.09</td>\n      <td>9.0</td>\n      <td>4855.0</td>\n      <td>872.0</td>\n      <td>2098.0</td>\n      <td>765.0</td>\n      <td>3.2723</td>\n    </tr>\n    <tr>\n      <th>16510</th>\n      <td>-118.01</td>\n      <td>33.82</td>\n      <td>31.0</td>\n      <td>1960.0</td>\n      <td>380.0</td>\n      <td>1356.0</td>\n      <td>356.0</td>\n      <td>4.0625</td>\n    </tr>\n    <tr>\n      <th>16511</th>\n      <td>-122.45</td>\n      <td>37.77</td>\n      <td>52.0</td>\n      <td>3095.0</td>\n      <td>682.0</td>\n      <td>1269.0</td>\n      <td>639.0</td>\n      <td>3.5750</td>\n    </tr>\n  </tbody>\n</table>\n<p>16512 rows × 8 columns</p>\n</div>"
     },
     "execution_count": 61,
     "metadata": {},
     "output_type": "execute_result"
    }
   ],
   "source": [
    "#解决缺失的特征\n",
    "'''\n",
    "1.放弃这些相应的地区\n",
    "2·放弃这个属性\n",
    "3·将缺失的值设置为某个值(0、平均数或者中位数等都可以)\n",
    "'''\n",
    "#能够找到DataFrame类型数据的空值（缺失值），将空值所在的行/列删除后，将新的DataFrame作为返回值返回\n",
    "#housing.dropna(subset=[\"total_bedrooms\"])\n",
    "\n",
    "\n",
    "#housing.drop(\"total_bedrooms\", axis=1,)\n",
    "#\n",
    "# median = housing[\"total_bedrooms\"].median()\n",
    "# housing[\"total_bedrooms\"].fillna(median)\n",
    "# housing\n",
    "\n",
    "'''\n",
    "4.sklearn中的imputer\n",
    "'''\n",
    "from sklearn.impute import SimpleImputer\n",
    "#指定你要用属性的中 位数值替换该属性的缺失值\n",
    "impute = SimpleImputer(strategy=\"median\")\n",
    "#中位数值只能在数值属性上计算，所以我们需要创建一个没有文本 属性的数据副本ocean_proximity\n",
    "#即删除ocean_proximity\n",
    "housing_num = housing.drop(\"ocean_proximity\",axis=1)\n",
    "#计算了每个属性的中位数值，并将结果存储在其实例变量statistics_中\n",
    "impute.fit(housing_num)\n",
    "#将计算出的中位数替换缺失的特征\n",
    "#结果是一个包含转换后特征的Numpy数组\n",
    "X = impute.transform(housing_num)\n",
    "#放回df中\n",
    "housing_tr = pd.DataFrame(X,columns=housing_num.columns)\n",
    "housing_tr"
   ],
   "metadata": {
    "collapsed": false,
    "pycharm": {
     "name": "#%%\n"
    }
   }
  },
  {
   "cell_type": "code",
   "execution_count": 62,
   "outputs": [
    {
     "name": "stdout",
     "output_type": "stream",
     "text": [
      "['<1H OCEAN' 'INLAND' 'ISLAND' 'NEAR BAY' 'NEAR OCEAN']\n"
     ]
    },
    {
     "data": {
      "text/plain": "array([0, 0, 4, ..., 1, 0, 3])"
     },
     "execution_count": 62,
     "metadata": {},
     "output_type": "execute_result"
    }
   ],
   "source": [
    "from sklearn.preprocessing import LabelEncoder\n",
    "#采用映射将文本标签转换为数值\n",
    "'''\n",
    "缺点：相近数值误判相似度更高\n",
    "'''\n",
    "encoder = LabelEncoder()\n",
    "housing_cat = housing[\"ocean_proximity\"]\n",
    "housing_cat_encoder = encoder.fit_transform(housing_cat)\n",
    "print(encoder.classes_)\n",
    "housing_cat_encoder"
   ],
   "metadata": {
    "collapsed": false,
    "pycharm": {
     "name": "#%%\n"
    }
   }
  },
  {
   "cell_type": "code",
   "execution_count": 63,
   "outputs": [
    {
     "data": {
      "text/plain": "array([[1., 0., 0., 0., 0.],\n       [1., 0., 0., 0., 0.],\n       [0., 0., 0., 0., 1.],\n       ...,\n       [0., 1., 0., 0., 0.],\n       [1., 0., 0., 0., 0.],\n       [0., 0., 0., 1., 0.]])"
     },
     "execution_count": 63,
     "metadata": {},
     "output_type": "execute_result"
    }
   ],
   "source": [
    "from sklearn.preprocessing import OneHotEncoder\n",
    "'''\n",
    "给每个类别创建一个二进制的属性:当类别是“<1H OCEAN”时，一个属性为1(其他为0)，\n",
    "当类别 是“INLAND”时，另一个属性为1(其他为0)，以此类推。这就是独热编码，\n",
    "因为只有一个属性为1(热)，其他均为0(冷)\n",
    "'''\n",
    "encoder = OneHotEncoder()\n",
    "#输出是一个SciPy稀疏矩阵,仅存储非零元素的位置\n",
    "#reshape----转换成1列,NumPy 的reshape()函数允许一个维度等于-1，也就是“未指定”:该值由数组的长度和其余维度来推断\n",
    "#fit_transform需要二维数组\n",
    "housing_cat_1hot = encoder.fit_transform(housing_cat_encoder.reshape(-1,1))\n",
    "# housing_cat_encoder.reshape(-1,1)\n",
    "housing_cat_1hot.toarray()"
   ],
   "metadata": {
    "collapsed": false,
    "pycharm": {
     "name": "#%%\n"
    }
   }
  },
  {
   "cell_type": "code",
   "execution_count": 64,
   "outputs": [
    {
     "data": {
      "text/plain": "array([[1, 0, 0, 0, 0],\n       [1, 0, 0, 0, 0],\n       [0, 0, 0, 0, 1],\n       ...,\n       [0, 1, 0, 0, 0],\n       [1, 0, 0, 0, 0],\n       [0, 0, 0, 1, 0]])"
     },
     "execution_count": 64,
     "metadata": {},
     "output_type": "execute_result"
    }
   ],
   "source": [
    "#使用LabelBinarizer类可以一次性完成两个转换(从文本类别转化为整数 类别，再从整数类别转换为独热向量)\n",
    "#sparse_output=True给LabelBinarizer构造函数,转换为稀疏矩阵\n",
    "from sklearn.preprocessing import LabelBinarizer\n",
    "encoder = LabelBinarizer()\n",
    "housing_cat_1hot = encoder.fit_transform(housing_cat)\n",
    "housing_cat_1hot"
   ],
   "metadata": {
    "collapsed": false,
    "pycharm": {
     "name": "#%%\n"
    }
   }
  },
  {
   "cell_type": "code",
   "execution_count": 65,
   "outputs": [],
   "source": [
    "#自定义转换器\n",
    "from sklearn.base import BaseEstimator\n",
    "from sklearn.base import TransformerMixin #gives fit_transform method for free\n",
    "\n",
    "class MyLabelBinarizer(TransformerMixin):\n",
    "    def __init__(self, *args, **kwargs):\n",
    "        self.encoder = LabelBinarizer(*args, **kwargs)\n",
    "    def fit(self, x, y=0):\n",
    "        self.encoder.fit(x)\n",
    "        return self\n",
    "    def transform(self, x, y=0):\n",
    "        return self.encoder.transform(x)\n",
    "\n",
    "#房间数量，卧室数量，人口数量，家庭数量的索引\n",
    "rooms_ix, bedrooms_ix, population_ix, household_ix = 3, 4, 5, 6\n",
    "class CombinedAttributesAdder(BaseEstimator, TransformerMixin):\n",
    "   def __init__(self, add_bedrooms_per_room = True): # no *args or **kargs\n",
    "       self.add_bedrooms_per_room = add_bedrooms_per_room\n",
    "   def fit(self, X, y=None):\n",
    "       return self  # nothing else to do\n",
    "   def transform(self, X, y=None):\n",
    "       #获得家庭数量与房间、人口之间的关系\n",
    "       rooms_per_household = X[:, rooms_ix] / X[:, household_ix]\n",
    "       population_per_household = X[:, population_ix] / X[:, household_ix]\n",
    "       if self.add_bedrooms_per_room:\n",
    "           #房间与卧室数量\n",
    "           bedrooms_per_room = X[:, bedrooms_ix] / X[:, rooms_ix]\n",
    "           return np.c_[X, rooms_per_household, population_per_household,\n",
    "                        bedrooms_per_room]\n",
    "       else:\n",
    "           #按行连接两个矩阵\n",
    "           return np.c_[X, rooms_per_household, population_per_household]\n",
    "\n",
    "#处理Pandas DataFrames\n",
    "class DataFrameSelector(BaseEstimator, TransformerMixin):\n",
    "   def __init__(self, attribute_names):\n",
    "       self.attribute_names = attribute_names\n",
    "   def fit(self, X, y=None):\n",
    "       return self\n",
    "   def transform(self, X,y=None):\n",
    "       return X[self.attribute_names].values\n",
    "\n",
    "attr_adder = CombinedAttributesAdder(add_bedrooms_per_room=False)\n",
    "housing_extra_attribs = attr_adder.transform(housing.values)"
   ],
   "metadata": {
    "collapsed": false,
    "pycharm": {
     "name": "#%%\n"
    }
   }
  },
  {
   "cell_type": "code",
   "execution_count": 66,
   "outputs": [
    {
     "data": {
      "text/plain": "array([[-1.15604281,  0.77194962,  0.74333089, ..., -0.31205452,\n        -0.08649871,  0.15531753],\n       [-1.17602483,  0.6596948 , -1.1653172 , ...,  0.21768338,\n        -0.03353391, -0.83628902],\n       [ 1.18684903, -1.34218285,  0.18664186, ..., -0.46531516,\n        -0.09240499,  0.4222004 ],\n       ...,\n       [ 1.58648943, -0.72478134, -1.56295222, ...,  0.3469342 ,\n        -0.03055414, -0.52177644],\n       [ 0.78221312, -0.85106801,  0.18664186, ...,  0.02499488,\n         0.06150916, -0.30340741],\n       [-1.43579109,  0.99645926,  1.85670895, ..., -0.22852947,\n        -0.09586294,  0.10180567]])"
     },
     "execution_count": 66,
     "metadata": {},
     "output_type": "execute_result"
    }
   ],
   "source": [
    "#特征缩放\n",
    "'''\n",
    "最小-最大缩放(又叫作归一化)很简单:将值重新缩放使其最终范围 归于0到1之间。实现方法是将值减去最小值并除以最大值和最小值的差。\n",
    "MinMaxScaler\n",
    "标准化则完全不一样:首先减去平均值(所以标准化值的均值总是 零)，然后除以方差，从而使得结果的分布具备单位方差\n",
    "StandadScaler\n",
    "'''\n",
    "from sklearn.pipeline import Pipeline\n",
    "from sklearn.preprocessing import StandardScaler\n",
    "#流水线处理数值\n",
    "#Pipeline构造函数会通过一系列名称/估算器的配对来定义步骤的序列。\n",
    "# 除了最后一个是估算器之外，前面都必须是转换器(也就是说，必须有 fit_transform()方法)\n",
    "num_pipeline = Pipeline([\n",
    "    #1.解决特征缺失，利用中位数填充\n",
    "    ('impute',SimpleImputer(strategy=\"median\")),\n",
    "    #2.转换器\n",
    "    ('attrs_adder', CombinedAttributesAdder()),\n",
    "    #3.特征缩放：标准化\n",
    "    ('std_scaler',StandardScaler()),\n",
    "])\n",
    "housing_num_tr = num_pipeline.fit_transform(housing_num)\n",
    "housing_num_tr\n"
   ],
   "metadata": {
    "collapsed": false,
    "pycharm": {
     "name": "#%%\n"
    }
   }
  },
  {
   "cell_type": "code",
   "execution_count": 67,
   "outputs": [
    {
     "data": {
      "text/plain": "(16512, 16)"
     },
     "execution_count": 67,
     "metadata": {},
     "output_type": "execute_result"
    }
   ],
   "source": [
    "#流水线处理分类值 LabelBinarizer\n",
    "from sklearn.pipeline import FeatureUnion\n",
    "\n",
    "\n",
    "#获得属性\n",
    "num_attribs = list(housing_num)\n",
    "cat_attribs = [\"ocean_proximity\"]\n",
    "'''\n",
    "并行处理\n",
    "每条子流水线从选择器转换器开始:只需要挑出所需的属性(数值或分 类)，\n",
    "删除其余的数据，然后将生成的DataFrame转换为NumPy数组， 数据转换就完成了'''\n",
    "#数值流水线\n",
    "num_pipeline = Pipeline([\n",
    "    ('selector',DataFrameSelector(num_attribs)),\n",
    "    ('impute',SimpleImputer(strategy='median')),\n",
    "    ('attrs_adder',CombinedAttributesAdder()),\n",
    "    ('std_scaler',StandardScaler())\n",
    "])\n",
    "#分类值流水线\n",
    "cat_pipeline = Pipeline([\n",
    "    ('selector',DataFrameSelector(cat_attribs)),\n",
    "    ('label_binarizer',MyLabelBinarizer())\n",
    "])\n",
    "#合并\n",
    "full_pipeline = FeatureUnion(transformer_list=[\n",
    "    ('num_pipeline',num_pipeline),\n",
    "    ('cat_pipeline',cat_pipeline),\n",
    "])\n",
    "\n",
    "housing_prepared = full_pipeline.fit_transform(housing)\n",
    "housing_prepared.shape"
   ],
   "metadata": {
    "collapsed": false,
    "pycharm": {
     "name": "#%%\n"
    }
   }
  },
  {
   "cell_type": "code",
   "execution_count": 68,
   "outputs": [
    {
     "name": "stdout",
     "output_type": "stream",
     "text": [
      "predict:\t [210644.60459286 317768.80697211 210956.43331178  59218.98886849\n",
      " 189747.55849879]\n",
      "real:\t\t [286600.0, 340600.0, 196900.0, 46300.0, 254500.0]\n"
     ]
    }
   ],
   "source": [
    "#线性回归\n",
    "from sklearn.linear_model import LinearRegression\n",
    "lin_reg = LinearRegression()\n",
    "#训练模型，x训练集，目标值\n",
    "lin_reg.fit(housing_prepared,housing_labels)\n",
    "#利用训练集的实例尝试预测\n",
    "#1.获得训练集的前五个实例\n",
    "some_data = housing.iloc[:5]\n",
    "#2.获得真实值\n",
    "some_labels = housing_labels.iloc[:5]\n",
    "#3.数据处理\n",
    "some_data_prepare = full_pipeline.transform(some_data)\n",
    "print(\"predict:\\t\",lin_reg.predict(some_data_prepare))\n",
    "print(\"real:\\t\\t\",list(some_labels))"
   ],
   "metadata": {
    "collapsed": false,
    "pycharm": {
     "name": "#%%\n"
    }
   }
  },
  {
   "cell_type": "code",
   "execution_count": 69,
   "outputs": [
    {
     "data": {
      "text/plain": "68628.19819848923"
     },
     "execution_count": 69,
     "metadata": {},
     "output_type": "execute_result"
    }
   ],
   "source": [
    "#均方根差 (root mean square error，缩写 RMSE)\n",
    "from sklearn.metrics import mean_squared_error\n",
    "housing_predictions = lin_reg.predict(housing_prepared)\n",
    "#均方误差\n",
    "lin_mse = mean_squared_error(housing_labels,housing_predictions)\n",
    "#平方根\n",
    "lin_rmse = np.sqrt(lin_mse)\n",
    "#过大，拟合不足\n",
    "lin_rmse"
   ],
   "metadata": {
    "collapsed": false,
    "pycharm": {
     "name": "#%%\n"
    }
   }
  },
  {
   "cell_type": "code",
   "execution_count": 70,
   "outputs": [
    {
     "data": {
      "text/plain": "0.0"
     },
     "execution_count": 70,
     "metadata": {},
     "output_type": "execute_result"
    }
   ],
   "source": [
    "#决策树\n",
    "from sklearn.tree import DecisionTreeRegressor\n",
    "tree_reg = DecisionTreeRegressor()\n",
    "tree_reg.fit(housing_prepared,housing_labels)\n",
    "\n",
    "housing_predictions = tree_reg.predict(housing_prepared)\n",
    "tree_mse = mean_squared_error(housing_labels,housing_predictions)\n",
    "tree_rmse = np.sqrt(tree_mse)\n",
    "tree_rmse"
   ],
   "metadata": {
    "collapsed": false,
    "pycharm": {
     "name": "#%%\n"
    }
   }
  },
  {
   "cell_type": "code",
   "execution_count": 71,
   "outputs": [
    {
     "data": {
      "text/plain": "18613.710781974863"
     },
     "execution_count": 71,
     "metadata": {},
     "output_type": "execute_result"
    }
   ],
   "source": [
    "#随机森林\n",
    "from sklearn.ensemble import RandomForestRegressor\n",
    "forest_reg = RandomForestRegressor()\n",
    "forest_reg.fit(housing_prepared,housing_labels)\n",
    "\n",
    "housing_predictions = forest_reg.predict(housing_prepared)\n",
    "forest_mse = mean_squared_error(housing_labels,housing_predictions)\n",
    "forest_rmse = np.sqrt(forest_mse)\n",
    "forest_rmse"
   ],
   "metadata": {
    "collapsed": false,
    "pycharm": {
     "name": "#%%\n"
    }
   }
  },
  {
   "cell_type": "code",
   "execution_count": 72,
   "outputs": [
    {
     "name": "stdout",
     "output_type": "stream",
     "text": [
      "Scores: [49563.78230128 47360.2778416  50050.33606519 52520.56879304\n",
      " 49393.62643811 53843.74885311 48658.44526553 47936.56709784\n",
      " 52596.66644556 50157.53025497]\n",
      "Mean: 50208.154935622835\n",
      "Standard deviation: 2026.0317357386982\n",
      "---------\n"
     ]
    }
   ],
   "source": [
    "#交叉验证\n",
    "from sklearn.model_selection import cross_val_score\n",
    "'''\n",
    "执行K-折 (K-fold)交叉验证的代码:它将训练集随机分割成10个不同的子集，\n",
    "每个子集称为一个折叠(fold)，然后对决策树模型进行10次训练和评估——每次挑选1个折叠进行评估，\n",
    "使用另外的9个折叠进行训练。产出的结果是一个包含10次评估分数的数组'''\n",
    "\n",
    "def display_scores(scores):\n",
    "    print(\"Scores:\",scores)\n",
    "    print(\"Mean:\",scores.mean())\n",
    "    print(\"Standard deviation:\",scores.std())\n",
    "    print('---------')\n",
    "\n",
    "# Scikit-Learn的交叉验证功能更倾向于使用效用函数(越大越好)而 不是成本函数(越小越好)，\n",
    "# 所以计算分数的函数实际上是负的 MSE(一个负值)函数，这就是为什么先计算出-scores\n",
    "# scores = cross_val_score(tree_reg,housing_prepared,housing_labels,\n",
    "#                          scoring=\"neg_mean_squared_error\",cv=10)\n",
    "# tree_rmse_scores = np.sqrt(-scores)\n",
    "# display_scores(tree_rmse_scores)\n",
    "#\n",
    "#\n",
    "# scores = cross_val_score(lin_reg,housing_prepared,housing_labels,\n",
    "#                          scoring=\"neg_mean_squared_error\",cv=10)\n",
    "# line_rmse_scores = np.sqrt(-scores)\n",
    "# display_scores(line_rmse_scores)\n",
    "\n",
    "\n",
    "scores = cross_val_score(forest_reg,housing_prepared,housing_labels,\n",
    "                         scoring=\"neg_mean_squared_error\",cv=10)\n",
    "forest_rmse_scores = np.sqrt(-scores)\n",
    "display_scores(forest_rmse_scores)"
   ],
   "metadata": {
    "collapsed": false,
    "pycharm": {
     "name": "#%%\n"
    }
   }
  },
  {
   "cell_type": "code",
   "execution_count": 73,
   "outputs": [
    {
     "name": "stdout",
     "output_type": "stream",
     "text": [
      "success\n"
     ]
    }
   ],
   "source": [
    "#保存Scikit-Learn模型\n",
    "import joblib\n",
    "joblib.dump(lin_reg,'models/lin_reg.model')\n",
    "joblib.dump(tree_reg,'models/tree_reg.model')\n",
    "joblib.dump(forest_reg,'models/forest_reg.model')\n",
    "print(\"success\")"
   ],
   "metadata": {
    "collapsed": false,
    "pycharm": {
     "name": "#%%\n"
    }
   }
  },
  {
   "cell_type": "code",
   "execution_count": 74,
   "outputs": [
    {
     "data": {
      "text/plain": "{'max_features': 6, 'n_estimators': 30}"
     },
     "execution_count": 74,
     "metadata": {},
     "output_type": "execute_result"
    }
   ],
   "source": [
    "#网格搜索\n",
    "from sklearn.model_selection import GridSearchCV\n",
    "\n",
    "param_grid = [\n",
    "    {'n_estimators':[3, 10, 30,],'max_features':[2, 4, 6, 8,]},\n",
    "    {'bootstrap':[False], 'n_estimators':[3, 10,],'max_features':[2, 3, 4,]},\n",
    "]\n",
    "forest_reg = RandomForestRegressor()\n",
    "'''\n",
    "param_grid告诉Scikit-Learn，首先评估第一个dict中的n_estimator和 max_features的所有3×4=12种\n",
    "超参数值组合(先不要担心这些超参数现 在意味着什么，我们将在第7章中进行解释)，\n",
    "接着，尝试第二个dict中 超参数值的所有2×3=6种组合，\n",
    "但这次超参数bootstrap需要设置为False\n",
    "而不是True(True是该超参数的默认值)\n",
    "'''\n",
    "grid_search = GridSearchCV(forest_reg,param_grid,cv=5,\n",
    "                           scoring='neg_mean_squared_error')\n",
    "grid_search.fit(housing_prepared,housing_labels)\n",
    "#最佳参数组合\n",
    "grid_search.best_params_"
   ],
   "metadata": {
    "collapsed": false,
    "pycharm": {
     "name": "#%%\n"
    }
   }
  },
  {
   "cell_type": "code",
   "execution_count": 75,
   "outputs": [
    {
     "data": {
      "text/plain": "RandomForestRegressor(max_features=6, n_estimators=30)"
     },
     "execution_count": 75,
     "metadata": {},
     "output_type": "execute_result"
    }
   ],
   "source": [
    "#最佳估算器\n",
    "grid_search.best_estimator_"
   ],
   "metadata": {
    "collapsed": false,
    "pycharm": {
     "name": "#%%\n"
    }
   }
  },
  {
   "cell_type": "code",
   "execution_count": 76,
   "outputs": [
    {
     "name": "stdout",
     "output_type": "stream",
     "text": [
      "63564.13623216435 {'max_features': 2, 'n_estimators': 3}\n",
      "55868.616428666515 {'max_features': 2, 'n_estimators': 10}\n",
      "52910.4830145633 {'max_features': 2, 'n_estimators': 30}\n",
      "60104.99982149344 {'max_features': 4, 'n_estimators': 3}\n",
      "53103.737864635696 {'max_features': 4, 'n_estimators': 10}\n",
      "50275.8534357944 {'max_features': 4, 'n_estimators': 30}\n",
      "59477.12082303333 {'max_features': 6, 'n_estimators': 3}\n",
      "52365.2390762334 {'max_features': 6, 'n_estimators': 10}\n",
      "49970.62364400168 {'max_features': 6, 'n_estimators': 30}\n",
      "58867.26003347439 {'max_features': 8, 'n_estimators': 3}\n",
      "51977.10883488239 {'max_features': 8, 'n_estimators': 10}\n",
      "50261.06651852189 {'max_features': 8, 'n_estimators': 30}\n",
      "62258.99560701307 {'bootstrap': False, 'max_features': 2, 'n_estimators': 3}\n",
      "54805.92099870599 {'bootstrap': False, 'max_features': 2, 'n_estimators': 10}\n",
      "60085.82403352767 {'bootstrap': False, 'max_features': 3, 'n_estimators': 3}\n",
      "53009.07184925694 {'bootstrap': False, 'max_features': 3, 'n_estimators': 10}\n",
      "59020.03619647543 {'bootstrap': False, 'max_features': 4, 'n_estimators': 3}\n",
      "51765.692968744166 {'bootstrap': False, 'max_features': 4, 'n_estimators': 10}\n"
     ]
    }
   ],
   "source": [
    "#评估分数\n",
    "cvres = grid_search.cv_results_\n",
    "for mean_score, params in zip(cvres[\"mean_test_score\"],cvres[\"params\"]):\n",
    "    print(np.sqrt(-mean_score),params)"
   ],
   "metadata": {
    "collapsed": false,
    "pycharm": {
     "name": "#%%\n"
    }
   }
  },
  {
   "cell_type": "code",
   "execution_count": 77,
   "outputs": [
    {
     "name": "stdout",
     "output_type": "stream",
     "text": [
      "['longitude', 'latitude', 'housing_median_age', 'total_rooms', 'total_bedrooms', 'population', 'households', 'median_income']\n"
     ]
    },
    {
     "data": {
      "text/plain": "[(0.32231176384508153, 'median_income'),\n (0.13711908603768433, 'INLAND'),\n (0.1037996774034098, 'pop_per_hhold'),\n (0.08540597237242688, 'longitude'),\n (0.0802697313919818, 'latitude'),\n (0.07634345955111618, 'bedrooms_per_room'),\n (0.06391991560882244, 'rooms_per_hold'),\n (0.040876251547670876, 'housing_median_age'),\n (0.017205604764985796, 'total_rooms'),\n (0.016788114329714266, 'population'),\n (0.016214187850052037, 'total_bedrooms'),\n (0.015743825259195862, 'households'),\n (0.014784995289499801, '<1H OCEAN'),\n (0.005497581309899704, 'NEAR OCEAN'),\n (0.0037065439390809554, 'NEAR BAY'),\n (1.328949937770722e-05, 'ISLAND')]"
     },
     "execution_count": 77,
     "metadata": {},
     "output_type": "execute_result"
    }
   ],
   "source": [
    "#每个属性的相对重要程度\n",
    "feature_importances = grid_search.best_estimator_.feature_importances_\n",
    "extra_attribs = [\"rooms_per_hold\",\"pop_per_hhold\",\"bedrooms_per_room\"]\n",
    "cat_one_hot_attribs = list(encoder.classes_)\n",
    "print(num_attribs)\n",
    "attributes = num_attribs + extra_attribs + cat_one_hot_attribs\n",
    "sorted(zip(feature_importances,attributes),reverse=True)\n"
   ],
   "metadata": {
    "collapsed": false,
    "pycharm": {
     "name": "#%%\n"
    }
   }
  },
  {
   "cell_type": "code",
   "execution_count": 78,
   "outputs": [
    {
     "data": {
      "text/plain": "47137.88488845624"
     },
     "execution_count": 78,
     "metadata": {},
     "output_type": "execute_result"
    }
   ],
   "source": [
    "#评估系统\n",
    "final_model = grid_search.best_estimator_\n",
    "\n",
    "X_test = strat_test_set.drop(\"median_house_value\", axis=1)\n",
    "y_test = strat_test_set[\"median_house_value\"].copy()\n",
    "x_test_prepared = full_pipeline.transform(X_test)\n",
    "\n",
    "final_predictions = final_model.predict(x_test_prepared)\n",
    "final_mse = mean_squared_error(y_test,final_predictions)\n",
    "final_rmse = np.sqrt(final_mse)\n",
    "final_rmse"
   ],
   "metadata": {
    "collapsed": false,
    "pycharm": {
     "name": "#%%\n"
    }
   }
  },
  {
   "cell_type": "code",
   "execution_count": 79,
   "outputs": [
    {
     "data": {
      "text/plain": "['models/final_forest_reg.model']"
     },
     "execution_count": 79,
     "metadata": {},
     "output_type": "execute_result"
    }
   ],
   "source": [
    "joblib.dump(final_model,'models/final_forest_reg.model')"
   ],
   "metadata": {
    "collapsed": false,
    "pycharm": {
     "name": "#%%\n"
    }
   }
  },
  {
   "cell_type": "code",
   "execution_count": 79,
   "outputs": [],
   "source": [],
   "metadata": {
    "collapsed": false,
    "pycharm": {
     "name": "#%%\n"
    }
   }
  }
 ],
 "metadata": {
  "kernelspec": {
   "display_name": "Python 3",
   "language": "python",
   "name": "python3"
  },
  "language_info": {
   "codemirror_mode": {
    "name": "ipython",
    "version": 2
   },
   "file_extension": ".py",
   "mimetype": "text/x-python",
   "name": "python",
   "nbconvert_exporter": "python",
   "pygments_lexer": "ipython2",
   "version": "2.7.6"
  }
 },
 "nbformat": 4,
 "nbformat_minor": 0
}